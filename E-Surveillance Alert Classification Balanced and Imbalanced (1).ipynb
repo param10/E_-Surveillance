{
 "cells": [
  {
   "cell_type": "markdown",
   "metadata": {},
   "source": [
    "#                                      E-Surveillance Alert Classification\n"
   ]
  },
  {
   "cell_type": "markdown",
   "metadata": {},
   "source": [
    "# Business Problem"
   ]
  },
  {
   "cell_type": "markdown",
   "metadata": {},
   "source": [
    "Description:\n",
    "\n",
    "Prevent break-ins before they occur using IoT security cameras with built-in computer vision capabilities, reducing the need for human intervention. Automated security to safeguard and alert against threats from intrusion or fire using multi-capability sensors such as vibration, motion, smoke, fire, etc.  Ensure the safety of both monetary and intellectual assets with round-the-clock surveillance and controlled access management.\n",
    "\n"
   ]
  },
  {
   "cell_type": "markdown",
   "metadata": {},
   "source": [
    "# Problem Statement"
   ]
  },
  {
   "cell_type": "markdown",
   "metadata": {},
   "source": [
    "We are tasked with classifying the alert whether it is Critical, Normal, or Testing which is received from the various sensors. Such as vibration, motion, smoke, fire, Panic, shutter(Door sensor).\n",
    "\n",
    "True_Normal= Testing the sensors(Smoke, Panic, fire), Smoke Alert due to AC maintenance / UPS maintenance, Cash loading, Pressing the panic switches unknowingly by bank staffs… \n",
    "\n",
    "True_Critical= Smoke, Fire, Network Connection error, PIR, Panic(Fire, Theft Attempt, in ATM and Bank)\n",
    "\n",
    "False_Normal= Sensor Malfunctioning (keep on getting the alert), No activity from PIR, shutter sensors.\n",
    "\n",
    "False_Critical = No activity, But, Alert is received from the critical sensor. Such as Smoke, fire, PIR(Motion detection sensor)\n"
   ]
  },
  {
   "cell_type": "markdown",
   "metadata": {},
   "source": [
    "# Real world/Business Objectives and Constraints"
   ]
  },
  {
   "cell_type": "markdown",
   "metadata": {},
   "source": [
    "1.The cost of a mis-classification can be very high.\n",
    "\n",
    "2.No strict latency concerns."
   ]
  },
  {
   "cell_type": "markdown",
   "metadata": {},
   "source": [
    "# Mapping the real world problem to an ML problem"
   ]
  },
  {
   "cell_type": "markdown",
   "metadata": {},
   "source": [
    "# Type of Machine Leaning Problem"
   ]
  },
  {
   "cell_type": "markdown",
   "metadata": {},
   "source": [
    "Supervised Learning:\n",
    "\n",
    "It is a Multi classification problem, for a given sensor data we need to classify if it is critical, Normal, or Testing"
   ]
  },
  {
   "cell_type": "markdown",
   "metadata": {},
   "source": [
    "# Train and Test Construction"
   ]
  },
  {
   "cell_type": "markdown",
   "metadata": {},
   "source": [
    "We build train and test by randomly splitting in the ratio of 70:30 or 80:20 whatever we choose as we have sufficient points to work with."
   ]
  },
  {
   "cell_type": "markdown",
   "metadata": {},
   "source": [
    "# Importing Necessary Libraries"
   ]
  },
  {
   "cell_type": "code",
   "execution_count": 3,
   "metadata": {},
   "outputs": [],
   "source": [
    "import pandas as pd\n",
    "import numpy as np\n",
    "import seaborn as sns\n",
    "import matplotlib.pyplot as plt\n",
    "from matplotlib import rcParams\n",
    "from matplotlib.cm import rainbow\n",
    "%matplotlib inline\n",
    "import warnings\n",
    "\n",
    "warnings.filterwarnings('ignore')\n"
   ]
  },
  {
   "cell_type": "markdown",
   "metadata": {},
   "source": [
    "# Data"
   ]
  },
  {
   "cell_type": "code",
   "execution_count": 4,
   "metadata": {},
   "outputs": [
    {
     "data": {
      "text/html": [
       "<div>\n",
       "<style scoped>\n",
       "    .dataframe tbody tr th:only-of-type {\n",
       "        vertical-align: middle;\n",
       "    }\n",
       "\n",
       "    .dataframe tbody tr th {\n",
       "        vertical-align: top;\n",
       "    }\n",
       "\n",
       "    .dataframe thead th {\n",
       "        text-align: right;\n",
       "    }\n",
       "</style>\n",
       "<table border=\"1\" class=\"dataframe\">\n",
       "  <thead>\n",
       "    <tr style=\"text-align: right;\">\n",
       "      <th></th>\n",
       "      <th>DATE</th>\n",
       "      <th>SOL ID</th>\n",
       "      <th>SENSOR (As of Portal)</th>\n",
       "      <th>Region</th>\n",
       "      <th>STATE</th>\n",
       "      <th>SENSOR NAME (Standard)</th>\n",
       "      <th>EVENT</th>\n",
       "      <th>EVENT DATE AND TIME</th>\n",
       "      <th>AKNOWLEDGE STATUS</th>\n",
       "      <th>Confirmation</th>\n",
       "      <th>LOG ID</th>\n",
       "      <th>2nd AKNOWLEDGE STATUS</th>\n",
       "      <th>Status</th>\n",
       "      <th>Month</th>\n",
       "      <th>Reason</th>\n",
       "    </tr>\n",
       "  </thead>\n",
       "  <tbody>\n",
       "    <tr>\n",
       "      <th>0</th>\n",
       "      <td>1-Apr-20</td>\n",
       "      <td>6358</td>\n",
       "      <td>System</td>\n",
       "      <td>West</td>\n",
       "      <td>Maharashtra</td>\n",
       "      <td>Network</td>\n",
       "      <td>Network communication error</td>\n",
       "      <td>4/1/20 0:07</td>\n",
       "      <td>True Alarm - Confirmed via Portal &amp; Escalated ...</td>\n",
       "      <td>Confirmed via Portal</td>\n",
       "      <td>46795597</td>\n",
       "      <td>True Alarm - Confirmed via Portal &amp; Escalated ...</td>\n",
       "      <td>True_Critical</td>\n",
       "      <td>Apr</td>\n",
       "      <td>Network communication error</td>\n",
       "    </tr>\n",
       "    <tr>\n",
       "      <th>1</th>\n",
       "      <td>1-Apr-20</td>\n",
       "      <td>6116</td>\n",
       "      <td>PIR - Inside Strong Room</td>\n",
       "      <td>South</td>\n",
       "      <td>TN</td>\n",
       "      <td>PIR</td>\n",
       "      <td>PIR Motion Detected Armed Hours</td>\n",
       "      <td>4/1/20 0:11</td>\n",
       "      <td>\\nFalse_False_Alarm - Branch Closed,  Verified...</td>\n",
       "      <td>Confirmed via TWAC</td>\n",
       "      <td>46786573</td>\n",
       "      <td>\\nFalse_False_Alarm - Branch Closed,  Verified...</td>\n",
       "      <td>False_False</td>\n",
       "      <td>Apr</td>\n",
       "      <td>Verified / Confirmed False alert</td>\n",
       "    </tr>\n",
       "    <tr>\n",
       "      <th>2</th>\n",
       "      <td>1-Apr-20</td>\n",
       "      <td>4407</td>\n",
       "      <td>System</td>\n",
       "      <td>South</td>\n",
       "      <td>Andhra Pradesh</td>\n",
       "      <td>Network</td>\n",
       "      <td>Network communication error</td>\n",
       "      <td>4/1/20 0:15</td>\n",
       "      <td>True Alarm - Confirmed via Portal &amp; Escalated ...</td>\n",
       "      <td>Confirmed via Portal</td>\n",
       "      <td>46796697</td>\n",
       "      <td>True Alarm - Confirmed via Portal &amp; Escalated ...</td>\n",
       "      <td>True_Critical</td>\n",
       "      <td>Apr</td>\n",
       "      <td>Network communication error</td>\n",
       "    </tr>\n",
       "    <tr>\n",
       "      <th>3</th>\n",
       "      <td>1-Apr-20</td>\n",
       "      <td>6973</td>\n",
       "      <td>System</td>\n",
       "      <td>West</td>\n",
       "      <td>Maharashtra</td>\n",
       "      <td>Network</td>\n",
       "      <td>Network communication error</td>\n",
       "      <td>4/1/20 0:27</td>\n",
       "      <td>True Alarm - Confirmed via Portal &amp; Escalated ...</td>\n",
       "      <td>Confirmed via Portal</td>\n",
       "      <td>46797661</td>\n",
       "      <td>True Alarm - Confirmed via Portal &amp; Escalated ...</td>\n",
       "      <td>True_Critical</td>\n",
       "      <td>Apr</td>\n",
       "      <td>Network communication error</td>\n",
       "    </tr>\n",
       "    <tr>\n",
       "      <th>4</th>\n",
       "      <td>1-Apr-20</td>\n",
       "      <td>0066</td>\n",
       "      <td>System</td>\n",
       "      <td>North</td>\n",
       "      <td>Punjab</td>\n",
       "      <td>Network</td>\n",
       "      <td>Network communication error</td>\n",
       "      <td>4/1/20 0:46</td>\n",
       "      <td>True Alarm - Confirmed via Portal &amp; Escalated ...</td>\n",
       "      <td>Confirmed via Portal</td>\n",
       "      <td>46800167</td>\n",
       "      <td>True Alarm - Confirmed via Portal &amp; Escalated ...</td>\n",
       "      <td>True_Critical</td>\n",
       "      <td>Apr</td>\n",
       "      <td>Network communication error</td>\n",
       "    </tr>\n",
       "    <tr>\n",
       "      <th>...</th>\n",
       "      <td>...</td>\n",
       "      <td>...</td>\n",
       "      <td>...</td>\n",
       "      <td>...</td>\n",
       "      <td>...</td>\n",
       "      <td>...</td>\n",
       "      <td>...</td>\n",
       "      <td>...</td>\n",
       "      <td>...</td>\n",
       "      <td>...</td>\n",
       "      <td>...</td>\n",
       "      <td>...</td>\n",
       "      <td>...</td>\n",
       "      <td>...</td>\n",
       "      <td>...</td>\n",
       "    </tr>\n",
       "    <tr>\n",
       "      <th>185682</th>\n",
       "      <td>30-Sep-20</td>\n",
       "      <td>6707</td>\n",
       "      <td>Hooter - Inside</td>\n",
       "      <td>West</td>\n",
       "      <td>Rajasthan</td>\n",
       "      <td>Hooter</td>\n",
       "      <td>Hooter ON</td>\n",
       "      <td>9/30/20 14:10</td>\n",
       "      <td>True_Normal - Alarm - Confirmed with DBM, Acci...</td>\n",
       "      <td>Confirmed with DBM</td>\n",
       "      <td>66121955</td>\n",
       "      <td>True_Normal - Alarm - Confirmed with DBM, Acci...</td>\n",
       "      <td>True_Normal</td>\n",
       "      <td>September</td>\n",
       "      <td>Accidentally done by bank staff.</td>\n",
       "    </tr>\n",
       "    <tr>\n",
       "      <th>185683</th>\n",
       "      <td>30-Sep-20</td>\n",
       "      <td>6707</td>\n",
       "      <td>Panic - Stop Panic</td>\n",
       "      <td>West</td>\n",
       "      <td>Rajasthan</td>\n",
       "      <td>Stop Panic</td>\n",
       "      <td>Stop Panic Alarm</td>\n",
       "      <td>9/30/20 14:10</td>\n",
       "      <td>True_Normal - Alarm - Confirmed with DBM, Acci...</td>\n",
       "      <td>Confirmed with DBM</td>\n",
       "      <td>66121971</td>\n",
       "      <td>True_Normal - Alarm - Confirmed with DBM, Acci...</td>\n",
       "      <td>True_Normal</td>\n",
       "      <td>September</td>\n",
       "      <td>Accidentally done by bank staff.</td>\n",
       "    </tr>\n",
       "    <tr>\n",
       "      <th>185684</th>\n",
       "      <td>30-Sep-20</td>\n",
       "      <td>2797</td>\n",
       "      <td>Smoke Sensor - ATM Lobby</td>\n",
       "      <td>East</td>\n",
       "      <td>Orissa</td>\n",
       "      <td>Smoke</td>\n",
       "      <td>Smoke Alarm</td>\n",
       "      <td>9/30/20 14:11</td>\n",
       "      <td>Testing_Alarm - Confirmed with DBM, Testing b...</td>\n",
       "      <td>Confirmed with DBM</td>\n",
       "      <td>66121991</td>\n",
       "      <td>Testing_Alarm - Confirmed with DBM, Testing b...</td>\n",
       "      <td>Testing</td>\n",
       "      <td>September</td>\n",
       "      <td>Testing by FSE</td>\n",
       "    </tr>\n",
       "    <tr>\n",
       "      <th>185685</th>\n",
       "      <td>30-Sep-20</td>\n",
       "      <td>2797</td>\n",
       "      <td>Hooter</td>\n",
       "      <td>East</td>\n",
       "      <td>Orissa</td>\n",
       "      <td>Hooter</td>\n",
       "      <td>Hooter ON</td>\n",
       "      <td>9/30/20 14:11</td>\n",
       "      <td>Testing_Alarm - Confirmed with DBM, Testing b...</td>\n",
       "      <td>Confirmed with DBM</td>\n",
       "      <td>66122009</td>\n",
       "      <td>Testing_Alarm - Confirmed with DBM, Testing b...</td>\n",
       "      <td>Testing</td>\n",
       "      <td>September</td>\n",
       "      <td>Testing by FSE</td>\n",
       "    </tr>\n",
       "    <tr>\n",
       "      <th>185686</th>\n",
       "      <td>30-Sep-20</td>\n",
       "      <td>2797</td>\n",
       "      <td>Panic - Stop Panic</td>\n",
       "      <td>East</td>\n",
       "      <td>Orissa</td>\n",
       "      <td>Stop Panic</td>\n",
       "      <td>Stop Panic Alarm</td>\n",
       "      <td>9/30/20 14:11</td>\n",
       "      <td>Testing_Alarm - Confirmed with DBM, Testing b...</td>\n",
       "      <td>Confirmed with DBM</td>\n",
       "      <td>66122023</td>\n",
       "      <td>Testing_Alarm - Confirmed with DBM, Testing b...</td>\n",
       "      <td>Testing</td>\n",
       "      <td>September</td>\n",
       "      <td>Testing by FSE</td>\n",
       "    </tr>\n",
       "  </tbody>\n",
       "</table>\n",
       "<p>185687 rows × 15 columns</p>\n",
       "</div>"
      ],
      "text/plain": [
       "             DATE SOL ID     SENSOR (As of Portal) Region           STATE  \\\n",
       "0        1-Apr-20   6358                    System   West     Maharashtra   \n",
       "1        1-Apr-20   6116  PIR - Inside Strong Room  South              TN   \n",
       "2        1-Apr-20   4407                    System  South  Andhra Pradesh   \n",
       "3        1-Apr-20   6973                    System   West     Maharashtra   \n",
       "4        1-Apr-20   0066                    System  North          Punjab   \n",
       "...           ...    ...                       ...    ...             ...   \n",
       "185682  30-Sep-20   6707           Hooter - Inside   West       Rajasthan   \n",
       "185683  30-Sep-20   6707        Panic - Stop Panic   West       Rajasthan   \n",
       "185684  30-Sep-20   2797  Smoke Sensor - ATM Lobby   East          Orissa   \n",
       "185685  30-Sep-20   2797                    Hooter   East          Orissa   \n",
       "185686  30-Sep-20   2797        Panic - Stop Panic   East          Orissa   \n",
       "\n",
       "       SENSOR NAME (Standard)                            EVENT  \\\n",
       "0                     Network      Network communication error   \n",
       "1                         PIR  PIR Motion Detected Armed Hours   \n",
       "2                     Network      Network communication error   \n",
       "3                     Network      Network communication error   \n",
       "4                     Network      Network communication error   \n",
       "...                       ...                              ...   \n",
       "185682                 Hooter                        Hooter ON   \n",
       "185683            Stop Panic                  Stop Panic Alarm   \n",
       "185684                  Smoke                      Smoke Alarm   \n",
       "185685                 Hooter                        Hooter ON   \n",
       "185686            Stop Panic                  Stop Panic Alarm   \n",
       "\n",
       "       EVENT DATE AND TIME                                  AKNOWLEDGE STATUS  \\\n",
       "0              4/1/20 0:07  True Alarm - Confirmed via Portal & Escalated ...   \n",
       "1              4/1/20 0:11  \\nFalse_False_Alarm - Branch Closed,  Verified...   \n",
       "2              4/1/20 0:15  True Alarm - Confirmed via Portal & Escalated ...   \n",
       "3              4/1/20 0:27  True Alarm - Confirmed via Portal & Escalated ...   \n",
       "4              4/1/20 0:46  True Alarm - Confirmed via Portal & Escalated ...   \n",
       "...                    ...                                                ...   \n",
       "185682       9/30/20 14:10  True_Normal - Alarm - Confirmed with DBM, Acci...   \n",
       "185683       9/30/20 14:10  True_Normal - Alarm - Confirmed with DBM, Acci...   \n",
       "185684       9/30/20 14:11   Testing_Alarm - Confirmed with DBM, Testing b...   \n",
       "185685       9/30/20 14:11   Testing_Alarm - Confirmed with DBM, Testing b...   \n",
       "185686       9/30/20 14:11   Testing_Alarm - Confirmed with DBM, Testing b...   \n",
       "\n",
       "                 Confirmation    LOG ID  \\\n",
       "0       Confirmed via Portal   46795597   \n",
       "1          Confirmed via TWAC  46786573   \n",
       "2       Confirmed via Portal   46796697   \n",
       "3       Confirmed via Portal   46797661   \n",
       "4       Confirmed via Portal   46800167   \n",
       "...                       ...       ...   \n",
       "185682     Confirmed with DBM  66121955   \n",
       "185683     Confirmed with DBM  66121971   \n",
       "185684     Confirmed with DBM  66121991   \n",
       "185685     Confirmed with DBM  66122009   \n",
       "185686     Confirmed with DBM  66122023   \n",
       "\n",
       "                                    2nd AKNOWLEDGE STATUS         Status  \\\n",
       "0       True Alarm - Confirmed via Portal & Escalated ...  True_Critical   \n",
       "1       \\nFalse_False_Alarm - Branch Closed,  Verified...    False_False   \n",
       "2       True Alarm - Confirmed via Portal & Escalated ...  True_Critical   \n",
       "3       True Alarm - Confirmed via Portal & Escalated ...  True_Critical   \n",
       "4       True Alarm - Confirmed via Portal & Escalated ...  True_Critical   \n",
       "...                                                   ...            ...   \n",
       "185682  True_Normal - Alarm - Confirmed with DBM, Acci...    True_Normal   \n",
       "185683  True_Normal - Alarm - Confirmed with DBM, Acci...    True_Normal   \n",
       "185684   Testing_Alarm - Confirmed with DBM, Testing b...        Testing   \n",
       "185685   Testing_Alarm - Confirmed with DBM, Testing b...        Testing   \n",
       "185686   Testing_Alarm - Confirmed with DBM, Testing b...        Testing   \n",
       "\n",
       "            Month                            Reason  \n",
       "0             Apr       Network communication error  \n",
       "1             Apr  Verified / Confirmed False alert  \n",
       "2             Apr       Network communication error  \n",
       "3             Apr       Network communication error  \n",
       "4             Apr       Network communication error  \n",
       "...           ...                               ...  \n",
       "185682  September  Accidentally done by bank staff.  \n",
       "185683  September  Accidentally done by bank staff.  \n",
       "185684  September                    Testing by FSE  \n",
       "185685  September                    Testing by FSE  \n",
       "185686  September                    Testing by FSE  \n",
       "\n",
       "[185687 rows x 15 columns]"
      ]
     },
     "execution_count": 4,
     "metadata": {},
     "output_type": "execute_result"
    }
   ],
   "source": [
    "data1= pd.read_csv('Master - Ack Time Analysis From April-20 to August-20 - Details.csv')\n",
    "data=data1.drop(['Branch'],axis=1)\n",
    "data"
   ]
  },
  {
   "cell_type": "markdown",
   "metadata": {},
   "source": [
    "## Showing first 5 rows of the dataset"
   ]
  },
  {
   "cell_type": "code",
   "execution_count": null,
   "metadata": {},
   "outputs": [],
   "source": [
    "data.head(5)"
   ]
  },
  {
   "cell_type": "code",
   "execution_count": null,
   "metadata": {},
   "outputs": [],
   "source": [
    "#Diiferent types of sensor are used in the bank"
   ]
  },
  {
   "cell_type": "code",
   "execution_count": 133,
   "metadata": {},
   "outputs": [
    {
     "data": {
      "text/plain": [
       "0                Network\n",
       "1                    PIR\n",
       "5              Vibration\n",
       "9                 Hooter\n",
       "10         Front Shutter\n",
       "42           Stop Panic \n",
       "43           Arm Dis-Arm\n",
       "59                Panic \n",
       "92                Smoke \n",
       "119         Energy Vault\n",
       "197           Chest Door\n",
       "7985       UPS Room Door\n",
       "11871      ATM Back Door\n",
       "82659         Chest Door\n",
       "82666           Network \n",
       "82667         Vibration \n",
       "82713              Smoke\n",
       "82719      Front Shutter\n",
       "82737              Panic\n",
       "113385               NaN\n",
       "Name: SENSOR NAME (Standard), dtype: object"
      ]
     },
     "execution_count": 133,
     "metadata": {},
     "output_type": "execute_result"
    }
   ],
   "source": [
    "sensors_type=data['SENSOR NAME (Standard)'].drop_duplicates()\n",
    "sensors_type"
   ]
  },
  {
   "cell_type": "markdown",
   "metadata": {},
   "source": [
    "# Shape"
   ]
  },
  {
   "cell_type": "code",
   "execution_count": 4,
   "metadata": {},
   "outputs": [
    {
     "data": {
      "text/plain": [
       "(185687, 16)"
      ]
     },
     "execution_count": 4,
     "metadata": {},
     "output_type": "execute_result"
    }
   ],
   "source": [
    "data.shape"
   ]
  },
  {
   "cell_type": "markdown",
   "metadata": {},
   "source": [
    "## Counting the output values for each categories"
   ]
  },
  {
   "cell_type": "code",
   "execution_count": 5,
   "metadata": {},
   "outputs": [
    {
     "data": {
      "text/plain": [
       "<bound method Series.count of True_Normal      110395\n",
       " Testing          36442\n",
       " False_False      23755\n",
       "True_Critical     10505\n",
       "FALSE              4590\n",
       "Name: Status, dtype: int64>"
      ]
     },
     "execution_count": 5,
     "metadata": {},
     "output_type": "execute_result"
    }
   ],
   "source": [
    "data.Status.value_counts().count"
   ]
  },
  {
   "cell_type": "markdown",
   "metadata": {},
   "source": [
    "# Features of the data set"
   ]
  },
  {
   "cell_type": "code",
   "execution_count": 6,
   "metadata": {},
   "outputs": [
    {
     "data": {
      "text/plain": [
       "Index(['DATE', 'SOL ID', 'Branch', 'SENSOR (As of Portal)', 'Region', 'STATE',\n",
       "       'SENSOR NAME (Standard)', ' EVENT', 'EVENT DATE AND TIME',\n",
       "       'AKNOWLEDGE STATUS', 'Confirmation', 'LOG ID', '2nd AKNOWLEDGE STATUS',\n",
       "       'Status', 'Month', 'Reason'],\n",
       "      dtype='object')"
      ]
     },
     "execution_count": 6,
     "metadata": {},
     "output_type": "execute_result"
    }
   ],
   "source": [
    "data.columns"
   ]
  },
  {
   "cell_type": "code",
   "execution_count": 77,
   "metadata": {},
   "outputs": [
    {
     "data": {
      "text/plain": [
       "0         True_Critical\n",
       "1           False_False\n",
       "39          True_Normal\n",
       "1018            Testing\n",
       "120123            FALSE\n",
       "Name: Status, dtype: object"
      ]
     },
     "execution_count": 77,
     "metadata": {},
     "output_type": "execute_result"
    }
   ],
   "source": [
    "data_features=data.Status.drop_duplicates()\n",
    "data_features"
   ]
  },
  {
   "cell_type": "markdown",
   "metadata": {},
   "source": [
    "## Number of distinct observations "
   ]
  },
  {
   "cell_type": "code",
   "execution_count": 13,
   "metadata": {},
   "outputs": [
    {
     "data": {
      "text/plain": [
       "DATE                         177\n",
       "SOL ID                      1721\n",
       "Branch                      1793\n",
       "SENSOR (As of Portal)       1327\n",
       "Region                         4\n",
       "STATE                         22\n",
       "SENSOR NAME (Standard)        19\n",
       " EVENT                        14\n",
       "EVENT DATE AND TIME        73423\n",
       "AKNOWLEDGE STATUS           9864\n",
       "Confirmation                  36\n",
       "LOG ID                    185475\n",
       "2nd AKNOWLEDGE STATUS      10078\n",
       "Status                         5\n",
       "Month                          6\n",
       "Reason                        18\n",
       "dtype: int64"
      ]
     },
     "execution_count": 13,
     "metadata": {},
     "output_type": "execute_result"
    }
   ],
   "source": [
    "data.nunique()"
   ]
  },
  {
   "cell_type": "markdown",
   "metadata": {},
   "source": [
    "# Removing the Unnecessary Columns"
   ]
  },
  {
   "cell_type": "code",
   "execution_count": 5,
   "metadata": {},
   "outputs": [
    {
     "data": {
      "text/html": [
       "<div>\n",
       "<style scoped>\n",
       "    .dataframe tbody tr th:only-of-type {\n",
       "        vertical-align: middle;\n",
       "    }\n",
       "\n",
       "    .dataframe tbody tr th {\n",
       "        vertical-align: top;\n",
       "    }\n",
       "\n",
       "    .dataframe thead th {\n",
       "        text-align: right;\n",
       "    }\n",
       "</style>\n",
       "<table border=\"1\" class=\"dataframe\">\n",
       "  <thead>\n",
       "    <tr style=\"text-align: right;\">\n",
       "      <th></th>\n",
       "      <th>SOL ID</th>\n",
       "      <th>Region</th>\n",
       "      <th>STATE</th>\n",
       "      <th>EVENT</th>\n",
       "      <th>AKNOWLEDGE STATUS</th>\n",
       "      <th>Confirmation</th>\n",
       "      <th>2nd AKNOWLEDGE STATUS</th>\n",
       "      <th>Status</th>\n",
       "    </tr>\n",
       "  </thead>\n",
       "  <tbody>\n",
       "    <tr>\n",
       "      <th>0</th>\n",
       "      <td>6358</td>\n",
       "      <td>West</td>\n",
       "      <td>Maharashtra</td>\n",
       "      <td>Network communication error</td>\n",
       "      <td>True Alarm - Confirmed via Portal &amp; Escalated ...</td>\n",
       "      <td>Confirmed via Portal</td>\n",
       "      <td>True Alarm - Confirmed via Portal &amp; Escalated ...</td>\n",
       "      <td>True_Critical</td>\n",
       "    </tr>\n",
       "    <tr>\n",
       "      <th>1</th>\n",
       "      <td>6116</td>\n",
       "      <td>South</td>\n",
       "      <td>TN</td>\n",
       "      <td>PIR Motion Detected Armed Hours</td>\n",
       "      <td>\\nFalse_False_Alarm - Branch Closed,  Verified...</td>\n",
       "      <td>Confirmed via TWAC</td>\n",
       "      <td>\\nFalse_False_Alarm - Branch Closed,  Verified...</td>\n",
       "      <td>False_False</td>\n",
       "    </tr>\n",
       "    <tr>\n",
       "      <th>2</th>\n",
       "      <td>4407</td>\n",
       "      <td>South</td>\n",
       "      <td>Andhra Pradesh</td>\n",
       "      <td>Network communication error</td>\n",
       "      <td>True Alarm - Confirmed via Portal &amp; Escalated ...</td>\n",
       "      <td>Confirmed via Portal</td>\n",
       "      <td>True Alarm - Confirmed via Portal &amp; Escalated ...</td>\n",
       "      <td>True_Critical</td>\n",
       "    </tr>\n",
       "    <tr>\n",
       "      <th>3</th>\n",
       "      <td>6973</td>\n",
       "      <td>West</td>\n",
       "      <td>Maharashtra</td>\n",
       "      <td>Network communication error</td>\n",
       "      <td>True Alarm - Confirmed via Portal &amp; Escalated ...</td>\n",
       "      <td>Confirmed via Portal</td>\n",
       "      <td>True Alarm - Confirmed via Portal &amp; Escalated ...</td>\n",
       "      <td>True_Critical</td>\n",
       "    </tr>\n",
       "    <tr>\n",
       "      <th>4</th>\n",
       "      <td>0066</td>\n",
       "      <td>North</td>\n",
       "      <td>Punjab</td>\n",
       "      <td>Network communication error</td>\n",
       "      <td>True Alarm - Confirmed via Portal &amp; Escalated ...</td>\n",
       "      <td>Confirmed via Portal</td>\n",
       "      <td>True Alarm - Confirmed via Portal &amp; Escalated ...</td>\n",
       "      <td>True_Critical</td>\n",
       "    </tr>\n",
       "    <tr>\n",
       "      <th>...</th>\n",
       "      <td>...</td>\n",
       "      <td>...</td>\n",
       "      <td>...</td>\n",
       "      <td>...</td>\n",
       "      <td>...</td>\n",
       "      <td>...</td>\n",
       "      <td>...</td>\n",
       "      <td>...</td>\n",
       "    </tr>\n",
       "    <tr>\n",
       "      <th>185682</th>\n",
       "      <td>6707</td>\n",
       "      <td>West</td>\n",
       "      <td>Rajasthan</td>\n",
       "      <td>Hooter ON</td>\n",
       "      <td>True_Normal - Alarm - Confirmed with DBM, Acci...</td>\n",
       "      <td>Confirmed with DBM</td>\n",
       "      <td>True_Normal - Alarm - Confirmed with DBM, Acci...</td>\n",
       "      <td>True_Normal</td>\n",
       "    </tr>\n",
       "    <tr>\n",
       "      <th>185683</th>\n",
       "      <td>6707</td>\n",
       "      <td>West</td>\n",
       "      <td>Rajasthan</td>\n",
       "      <td>Stop Panic Alarm</td>\n",
       "      <td>True_Normal - Alarm - Confirmed with DBM, Acci...</td>\n",
       "      <td>Confirmed with DBM</td>\n",
       "      <td>True_Normal - Alarm - Confirmed with DBM, Acci...</td>\n",
       "      <td>True_Normal</td>\n",
       "    </tr>\n",
       "    <tr>\n",
       "      <th>185684</th>\n",
       "      <td>2797</td>\n",
       "      <td>East</td>\n",
       "      <td>Orissa</td>\n",
       "      <td>Smoke Alarm</td>\n",
       "      <td>Testing_Alarm - Confirmed with DBM, Testing b...</td>\n",
       "      <td>Confirmed with DBM</td>\n",
       "      <td>Testing_Alarm - Confirmed with DBM, Testing b...</td>\n",
       "      <td>Testing</td>\n",
       "    </tr>\n",
       "    <tr>\n",
       "      <th>185685</th>\n",
       "      <td>2797</td>\n",
       "      <td>East</td>\n",
       "      <td>Orissa</td>\n",
       "      <td>Hooter ON</td>\n",
       "      <td>Testing_Alarm - Confirmed with DBM, Testing b...</td>\n",
       "      <td>Confirmed with DBM</td>\n",
       "      <td>Testing_Alarm - Confirmed with DBM, Testing b...</td>\n",
       "      <td>Testing</td>\n",
       "    </tr>\n",
       "    <tr>\n",
       "      <th>185686</th>\n",
       "      <td>2797</td>\n",
       "      <td>East</td>\n",
       "      <td>Orissa</td>\n",
       "      <td>Stop Panic Alarm</td>\n",
       "      <td>Testing_Alarm - Confirmed with DBM, Testing b...</td>\n",
       "      <td>Confirmed with DBM</td>\n",
       "      <td>Testing_Alarm - Confirmed with DBM, Testing b...</td>\n",
       "      <td>Testing</td>\n",
       "    </tr>\n",
       "  </tbody>\n",
       "</table>\n",
       "<p>185687 rows × 8 columns</p>\n",
       "</div>"
      ],
      "text/plain": [
       "       SOL ID Region           STATE                            EVENT  \\\n",
       "0        6358   West     Maharashtra      Network communication error   \n",
       "1        6116  South              TN  PIR Motion Detected Armed Hours   \n",
       "2        4407  South  Andhra Pradesh      Network communication error   \n",
       "3        6973   West     Maharashtra      Network communication error   \n",
       "4        0066  North          Punjab      Network communication error   \n",
       "...       ...    ...             ...                              ...   \n",
       "185682   6707   West       Rajasthan                        Hooter ON   \n",
       "185683   6707   West       Rajasthan                 Stop Panic Alarm   \n",
       "185684   2797   East          Orissa                      Smoke Alarm   \n",
       "185685   2797   East          Orissa                        Hooter ON   \n",
       "185686   2797   East          Orissa                 Stop Panic Alarm   \n",
       "\n",
       "                                        AKNOWLEDGE STATUS  \\\n",
       "0       True Alarm - Confirmed via Portal & Escalated ...   \n",
       "1       \\nFalse_False_Alarm - Branch Closed,  Verified...   \n",
       "2       True Alarm - Confirmed via Portal & Escalated ...   \n",
       "3       True Alarm - Confirmed via Portal & Escalated ...   \n",
       "4       True Alarm - Confirmed via Portal & Escalated ...   \n",
       "...                                                   ...   \n",
       "185682  True_Normal - Alarm - Confirmed with DBM, Acci...   \n",
       "185683  True_Normal - Alarm - Confirmed with DBM, Acci...   \n",
       "185684   Testing_Alarm - Confirmed with DBM, Testing b...   \n",
       "185685   Testing_Alarm - Confirmed with DBM, Testing b...   \n",
       "185686   Testing_Alarm - Confirmed with DBM, Testing b...   \n",
       "\n",
       "                 Confirmation  \\\n",
       "0       Confirmed via Portal    \n",
       "1          Confirmed via TWAC   \n",
       "2       Confirmed via Portal    \n",
       "3       Confirmed via Portal    \n",
       "4       Confirmed via Portal    \n",
       "...                       ...   \n",
       "185682     Confirmed with DBM   \n",
       "185683     Confirmed with DBM   \n",
       "185684     Confirmed with DBM   \n",
       "185685     Confirmed with DBM   \n",
       "185686     Confirmed with DBM   \n",
       "\n",
       "                                    2nd AKNOWLEDGE STATUS         Status  \n",
       "0       True Alarm - Confirmed via Portal & Escalated ...  True_Critical  \n",
       "1       \\nFalse_False_Alarm - Branch Closed,  Verified...    False_False  \n",
       "2       True Alarm - Confirmed via Portal & Escalated ...  True_Critical  \n",
       "3       True Alarm - Confirmed via Portal & Escalated ...  True_Critical  \n",
       "4       True Alarm - Confirmed via Portal & Escalated ...  True_Critical  \n",
       "...                                                   ...            ...  \n",
       "185682  True_Normal - Alarm - Confirmed with DBM, Acci...    True_Normal  \n",
       "185683  True_Normal - Alarm - Confirmed with DBM, Acci...    True_Normal  \n",
       "185684   Testing_Alarm - Confirmed with DBM, Testing b...        Testing  \n",
       "185685   Testing_Alarm - Confirmed with DBM, Testing b...        Testing  \n",
       "185686   Testing_Alarm - Confirmed with DBM, Testing b...        Testing  \n",
       "\n",
       "[185687 rows x 8 columns]"
      ]
     },
     "execution_count": 5,
     "metadata": {},
     "output_type": "execute_result"
    }
   ],
   "source": [
    "p=data.drop(['LOG ID','SENSOR (As of Portal)','DATE','SENSOR NAME (Standard)', 'Month','EVENT DATE AND TIME','Reason'], axis=1)\n",
    "p\n"
   ]
  },
  {
   "cell_type": "markdown",
   "metadata": {},
   "source": [
    "## Checking for NaN/null values"
   ]
  },
  {
   "cell_type": "code",
   "execution_count": 6,
   "metadata": {},
   "outputs": [
    {
     "data": {
      "text/plain": [
       "SOL ID                   0\n",
       "Region                   0\n",
       "STATE                    0\n",
       " EVENT                   0\n",
       "AKNOWLEDGE STATUS        0\n",
       "Confirmation             0\n",
       "2nd AKNOWLEDGE STATUS    0\n",
       "Status                   0\n",
       "dtype: int64"
      ]
     },
     "execution_count": 6,
     "metadata": {},
     "output_type": "execute_result"
    }
   ],
   "source": [
    "p.isna().sum()\n"
   ]
  },
  {
   "cell_type": "markdown",
   "metadata": {},
   "source": [
    "## Handling categorical data"
   ]
  },
  {
   "cell_type": "markdown",
   "metadata": {},
   "source": [
    "Here we are converting categorical data to numerical data using label encoder"
   ]
  },
  {
   "cell_type": "code",
   "execution_count": 7,
   "metadata": {},
   "outputs": [
    {
     "data": {
      "text/html": [
       "<div>\n",
       "<style scoped>\n",
       "    .dataframe tbody tr th:only-of-type {\n",
       "        vertical-align: middle;\n",
       "    }\n",
       "\n",
       "    .dataframe tbody tr th {\n",
       "        vertical-align: top;\n",
       "    }\n",
       "\n",
       "    .dataframe thead th {\n",
       "        text-align: right;\n",
       "    }\n",
       "</style>\n",
       "<table border=\"1\" class=\"dataframe\">\n",
       "  <thead>\n",
       "    <tr style=\"text-align: right;\">\n",
       "      <th></th>\n",
       "      <th>SOL ID</th>\n",
       "      <th>Region</th>\n",
       "      <th>STATE</th>\n",
       "      <th>EVENT</th>\n",
       "      <th>AKNOWLEDGE STATUS</th>\n",
       "      <th>Confirmation</th>\n",
       "      <th>2nd AKNOWLEDGE STATUS</th>\n",
       "      <th>Status</th>\n",
       "    </tr>\n",
       "  </thead>\n",
       "  <tbody>\n",
       "    <tr>\n",
       "      <th>0</th>\n",
       "      <td>1255</td>\n",
       "      <td>3</td>\n",
       "      <td>11</td>\n",
       "      <td>6</td>\n",
       "      <td>7872</td>\n",
       "      <td>14</td>\n",
       "      <td>8079</td>\n",
       "      <td>3</td>\n",
       "    </tr>\n",
       "    <tr>\n",
       "      <th>1</th>\n",
       "      <td>1166</td>\n",
       "      <td>2</td>\n",
       "      <td>17</td>\n",
       "      <td>8</td>\n",
       "      <td>434</td>\n",
       "      <td>15</td>\n",
       "      <td>442</td>\n",
       "      <td>0</td>\n",
       "    </tr>\n",
       "    <tr>\n",
       "      <th>2</th>\n",
       "      <td>1092</td>\n",
       "      <td>2</td>\n",
       "      <td>0</td>\n",
       "      <td>6</td>\n",
       "      <td>7872</td>\n",
       "      <td>14</td>\n",
       "      <td>8079</td>\n",
       "      <td>3</td>\n",
       "    </tr>\n",
       "    <tr>\n",
       "      <th>3</th>\n",
       "      <td>1525</td>\n",
       "      <td>3</td>\n",
       "      <td>11</td>\n",
       "      <td>6</td>\n",
       "      <td>7872</td>\n",
       "      <td>14</td>\n",
       "      <td>8079</td>\n",
       "      <td>3</td>\n",
       "    </tr>\n",
       "    <tr>\n",
       "      <th>4</th>\n",
       "      <td>11</td>\n",
       "      <td>1</td>\n",
       "      <td>15</td>\n",
       "      <td>6</td>\n",
       "      <td>7872</td>\n",
       "      <td>14</td>\n",
       "      <td>8079</td>\n",
       "      <td>3</td>\n",
       "    </tr>\n",
       "    <tr>\n",
       "      <th>...</th>\n",
       "      <td>...</td>\n",
       "      <td>...</td>\n",
       "      <td>...</td>\n",
       "      <td>...</td>\n",
       "      <td>...</td>\n",
       "      <td>...</td>\n",
       "      <td>...</td>\n",
       "      <td>...</td>\n",
       "    </tr>\n",
       "    <tr>\n",
       "      <th>185682</th>\n",
       "      <td>1369</td>\n",
       "      <td>3</td>\n",
       "      <td>16</td>\n",
       "      <td>5</td>\n",
       "      <td>8337</td>\n",
       "      <td>19</td>\n",
       "      <td>8587</td>\n",
       "      <td>4</td>\n",
       "    </tr>\n",
       "    <tr>\n",
       "      <th>185683</th>\n",
       "      <td>1369</td>\n",
       "      <td>3</td>\n",
       "      <td>16</td>\n",
       "      <td>12</td>\n",
       "      <td>8337</td>\n",
       "      <td>19</td>\n",
       "      <td>8587</td>\n",
       "      <td>4</td>\n",
       "    </tr>\n",
       "    <tr>\n",
       "      <th>185684</th>\n",
       "      <td>807</td>\n",
       "      <td>0</td>\n",
       "      <td>13</td>\n",
       "      <td>10</td>\n",
       "      <td>2968</td>\n",
       "      <td>19</td>\n",
       "      <td>3045</td>\n",
       "      <td>1</td>\n",
       "    </tr>\n",
       "    <tr>\n",
       "      <th>185685</th>\n",
       "      <td>807</td>\n",
       "      <td>0</td>\n",
       "      <td>13</td>\n",
       "      <td>5</td>\n",
       "      <td>2968</td>\n",
       "      <td>19</td>\n",
       "      <td>3045</td>\n",
       "      <td>1</td>\n",
       "    </tr>\n",
       "    <tr>\n",
       "      <th>185686</th>\n",
       "      <td>807</td>\n",
       "      <td>0</td>\n",
       "      <td>13</td>\n",
       "      <td>12</td>\n",
       "      <td>2968</td>\n",
       "      <td>19</td>\n",
       "      <td>3045</td>\n",
       "      <td>1</td>\n",
       "    </tr>\n",
       "  </tbody>\n",
       "</table>\n",
       "<p>185687 rows × 8 columns</p>\n",
       "</div>"
      ],
      "text/plain": [
       "        SOL ID  Region  STATE   EVENT  AKNOWLEDGE STATUS  Confirmation  \\\n",
       "0         1255       3     11       6               7872            14   \n",
       "1         1166       2     17       8                434            15   \n",
       "2         1092       2      0       6               7872            14   \n",
       "3         1525       3     11       6               7872            14   \n",
       "4           11       1     15       6               7872            14   \n",
       "...        ...     ...    ...     ...                ...           ...   \n",
       "185682    1369       3     16       5               8337            19   \n",
       "185683    1369       3     16      12               8337            19   \n",
       "185684     807       0     13      10               2968            19   \n",
       "185685     807       0     13       5               2968            19   \n",
       "185686     807       0     13      12               2968            19   \n",
       "\n",
       "        2nd AKNOWLEDGE STATUS  Status  \n",
       "0                        8079       3  \n",
       "1                         442       0  \n",
       "2                        8079       3  \n",
       "3                        8079       3  \n",
       "4                        8079       3  \n",
       "...                       ...     ...  \n",
       "185682                   8587       4  \n",
       "185683                   8587       4  \n",
       "185684                   3045       1  \n",
       "185685                   3045       1  \n",
       "185686                   3045       1  \n",
       "\n",
       "[185687 rows x 8 columns]"
      ]
     },
     "execution_count": 7,
     "metadata": {},
     "output_type": "execute_result"
    }
   ],
   "source": [
    "from sklearn.preprocessing import LabelEncoder\n",
    "labelencoder_X=LabelEncoder()\n",
    "xm=p.apply(LabelEncoder().fit_transform)\n",
    "xm"
   ]
  },
  {
   "cell_type": "markdown",
   "metadata": {},
   "source": [
    "# Spliting input features"
   ]
  },
  {
   "cell_type": "code",
   "execution_count": 8,
   "metadata": {},
   "outputs": [
    {
     "data": {
      "text/html": [
       "<div>\n",
       "<style scoped>\n",
       "    .dataframe tbody tr th:only-of-type {\n",
       "        vertical-align: middle;\n",
       "    }\n",
       "\n",
       "    .dataframe tbody tr th {\n",
       "        vertical-align: top;\n",
       "    }\n",
       "\n",
       "    .dataframe thead th {\n",
       "        text-align: right;\n",
       "    }\n",
       "</style>\n",
       "<table border=\"1\" class=\"dataframe\">\n",
       "  <thead>\n",
       "    <tr style=\"text-align: right;\">\n",
       "      <th></th>\n",
       "      <th>SOL ID</th>\n",
       "      <th>Region</th>\n",
       "      <th>STATE</th>\n",
       "      <th>EVENT</th>\n",
       "      <th>AKNOWLEDGE STATUS</th>\n",
       "      <th>Confirmation</th>\n",
       "      <th>2nd AKNOWLEDGE STATUS</th>\n",
       "    </tr>\n",
       "  </thead>\n",
       "  <tbody>\n",
       "    <tr>\n",
       "      <th>0</th>\n",
       "      <td>1255</td>\n",
       "      <td>3</td>\n",
       "      <td>11</td>\n",
       "      <td>6</td>\n",
       "      <td>7872</td>\n",
       "      <td>14</td>\n",
       "      <td>8079</td>\n",
       "    </tr>\n",
       "    <tr>\n",
       "      <th>1</th>\n",
       "      <td>1166</td>\n",
       "      <td>2</td>\n",
       "      <td>17</td>\n",
       "      <td>8</td>\n",
       "      <td>434</td>\n",
       "      <td>15</td>\n",
       "      <td>442</td>\n",
       "    </tr>\n",
       "    <tr>\n",
       "      <th>2</th>\n",
       "      <td>1092</td>\n",
       "      <td>2</td>\n",
       "      <td>0</td>\n",
       "      <td>6</td>\n",
       "      <td>7872</td>\n",
       "      <td>14</td>\n",
       "      <td>8079</td>\n",
       "    </tr>\n",
       "    <tr>\n",
       "      <th>3</th>\n",
       "      <td>1525</td>\n",
       "      <td>3</td>\n",
       "      <td>11</td>\n",
       "      <td>6</td>\n",
       "      <td>7872</td>\n",
       "      <td>14</td>\n",
       "      <td>8079</td>\n",
       "    </tr>\n",
       "    <tr>\n",
       "      <th>4</th>\n",
       "      <td>11</td>\n",
       "      <td>1</td>\n",
       "      <td>15</td>\n",
       "      <td>6</td>\n",
       "      <td>7872</td>\n",
       "      <td>14</td>\n",
       "      <td>8079</td>\n",
       "    </tr>\n",
       "    <tr>\n",
       "      <th>...</th>\n",
       "      <td>...</td>\n",
       "      <td>...</td>\n",
       "      <td>...</td>\n",
       "      <td>...</td>\n",
       "      <td>...</td>\n",
       "      <td>...</td>\n",
       "      <td>...</td>\n",
       "    </tr>\n",
       "    <tr>\n",
       "      <th>185682</th>\n",
       "      <td>1369</td>\n",
       "      <td>3</td>\n",
       "      <td>16</td>\n",
       "      <td>5</td>\n",
       "      <td>8337</td>\n",
       "      <td>19</td>\n",
       "      <td>8587</td>\n",
       "    </tr>\n",
       "    <tr>\n",
       "      <th>185683</th>\n",
       "      <td>1369</td>\n",
       "      <td>3</td>\n",
       "      <td>16</td>\n",
       "      <td>12</td>\n",
       "      <td>8337</td>\n",
       "      <td>19</td>\n",
       "      <td>8587</td>\n",
       "    </tr>\n",
       "    <tr>\n",
       "      <th>185684</th>\n",
       "      <td>807</td>\n",
       "      <td>0</td>\n",
       "      <td>13</td>\n",
       "      <td>10</td>\n",
       "      <td>2968</td>\n",
       "      <td>19</td>\n",
       "      <td>3045</td>\n",
       "    </tr>\n",
       "    <tr>\n",
       "      <th>185685</th>\n",
       "      <td>807</td>\n",
       "      <td>0</td>\n",
       "      <td>13</td>\n",
       "      <td>5</td>\n",
       "      <td>2968</td>\n",
       "      <td>19</td>\n",
       "      <td>3045</td>\n",
       "    </tr>\n",
       "    <tr>\n",
       "      <th>185686</th>\n",
       "      <td>807</td>\n",
       "      <td>0</td>\n",
       "      <td>13</td>\n",
       "      <td>12</td>\n",
       "      <td>2968</td>\n",
       "      <td>19</td>\n",
       "      <td>3045</td>\n",
       "    </tr>\n",
       "  </tbody>\n",
       "</table>\n",
       "<p>185687 rows × 7 columns</p>\n",
       "</div>"
      ],
      "text/plain": [
       "        SOL ID  Region  STATE   EVENT  AKNOWLEDGE STATUS  Confirmation  \\\n",
       "0         1255       3     11       6               7872            14   \n",
       "1         1166       2     17       8                434            15   \n",
       "2         1092       2      0       6               7872            14   \n",
       "3         1525       3     11       6               7872            14   \n",
       "4           11       1     15       6               7872            14   \n",
       "...        ...     ...    ...     ...                ...           ...   \n",
       "185682    1369       3     16       5               8337            19   \n",
       "185683    1369       3     16      12               8337            19   \n",
       "185684     807       0     13      10               2968            19   \n",
       "185685     807       0     13       5               2968            19   \n",
       "185686     807       0     13      12               2968            19   \n",
       "\n",
       "        2nd AKNOWLEDGE STATUS  \n",
       "0                        8079  \n",
       "1                         442  \n",
       "2                        8079  \n",
       "3                        8079  \n",
       "4                        8079  \n",
       "...                       ...  \n",
       "185682                   8587  \n",
       "185683                   8587  \n",
       "185684                   3045  \n",
       "185685                   3045  \n",
       "185686                   3045  \n",
       "\n",
       "[185687 rows x 7 columns]"
      ]
     },
     "execution_count": 8,
     "metadata": {},
     "output_type": "execute_result"
    }
   ],
   "source": [
    "X=xm.iloc[:,:-1]\n",
    "X"
   ]
  },
  {
   "cell_type": "markdown",
   "metadata": {},
   "source": [
    "# Output feature"
   ]
  },
  {
   "cell_type": "code",
   "execution_count": 9,
   "metadata": {},
   "outputs": [
    {
     "data": {
      "text/plain": [
       "0         3\n",
       "1         0\n",
       "2         3\n",
       "3         3\n",
       "4         3\n",
       "         ..\n",
       "185682    4\n",
       "185683    4\n",
       "185684    1\n",
       "185685    1\n",
       "185686    1\n",
       "Name: Status, Length: 185687, dtype: int32"
      ]
     },
     "execution_count": 9,
     "metadata": {},
     "output_type": "execute_result"
    }
   ],
   "source": [
    "y=xm.iloc[:,7]\n",
    "y"
   ]
  },
  {
   "cell_type": "code",
   "execution_count": 10,
   "metadata": {},
   "outputs": [
    {
     "data": {
      "text/plain": [
       "['SOL ID',\n",
       " 'Region',\n",
       " 'STATE',\n",
       " ' EVENT',\n",
       " 'AKNOWLEDGE STATUS',\n",
       " 'Confirmation',\n",
       " '2nd AKNOWLEDGE STATUS']"
      ]
     },
     "execution_count": 10,
     "metadata": {},
     "output_type": "execute_result"
    }
   ],
   "source": [
    "#columns to list\n",
    "feature_names = X.columns.tolist()\n",
    "feature_names"
   ]
  },
  {
   "cell_type": "markdown",
   "metadata": {},
   "source": [
    "# Feature Importance"
   ]
  },
  {
   "cell_type": "code",
   "execution_count": 11,
   "metadata": {},
   "outputs": [],
   "source": [
    "#importing the ExtraTreesRegressor\n",
    "from sklearn.ensemble import ExtraTreesRegressor\n",
    "import matplotlib.pyplot as plt\n"
   ]
  },
  {
   "cell_type": "code",
   "execution_count": 147,
   "metadata": {},
   "outputs": [],
   "source": [
    "model = ExtraTreesRegressor()\n"
   ]
  },
  {
   "cell_type": "code",
   "execution_count": 148,
   "metadata": {},
   "outputs": [
    {
     "name": "stdout",
     "output_type": "stream",
     "text": [
      "[0.04941096 0.01162244 0.01898071 0.03501246 0.31675196 0.16743766\n",
      " 0.40078382]\n"
     ]
    }
   ],
   "source": [
    "model.fit(X,y)\n",
    "\n",
    "print(model.feature_importances_)\n"
   ]
  },
  {
   "cell_type": "markdown",
   "metadata": {},
   "source": [
    "# Which are the best features?"
   ]
  },
  {
   "cell_type": "code",
   "execution_count": 149,
   "metadata": {
    "scrolled": true
   },
   "outputs": [
    {
     "data": {
      "image/png": "[encoded data removed]",
      "text/plain": [
       "<Figure size 432x288 with 1 Axes>"
      ]
     },
     "metadata": {
      "needs_background": "light"
     },
     "output_type": "display_data"
    }
   ],
   "source": [
    "#Top 5 important features\n",
    "feat_importances = pd.Series(model.feature_importances_, index=X.columns)\n",
    "feat_importances.nlargest(5).plot(kind='barh')\n",
    "plt.show()"
   ]
  },
  {
   "cell_type": "markdown",
   "metadata": {},
   "source": [
    "Calculate the correlation with y for each feature "
   ]
  },
  {
   "cell_type": "code",
   "execution_count": 12,
   "metadata": {},
   "outputs": [
    {
     "data": {
      "text/html": [
       "<div>\n",
       "<style scoped>\n",
       "    .dataframe tbody tr th:only-of-type {\n",
       "        vertical-align: middle;\n",
       "    }\n",
       "\n",
       "    .dataframe tbody tr th {\n",
       "        vertical-align: top;\n",
       "    }\n",
       "\n",
       "    .dataframe thead th {\n",
       "        text-align: right;\n",
       "    }\n",
       "</style>\n",
       "<table border=\"1\" class=\"dataframe\">\n",
       "  <thead>\n",
       "    <tr style=\"text-align: right;\">\n",
       "      <th></th>\n",
       "      <th>SOL ID</th>\n",
       "      <th>Region</th>\n",
       "      <th>STATE</th>\n",
       "      <th>EVENT</th>\n",
       "      <th>AKNOWLEDGE STATUS</th>\n",
       "      <th>Confirmation</th>\n",
       "      <th>2nd AKNOWLEDGE STATUS</th>\n",
       "      <th>Status</th>\n",
       "    </tr>\n",
       "  </thead>\n",
       "  <tbody>\n",
       "    <tr>\n",
       "      <th>SOL ID</th>\n",
       "      <td>1.000000</td>\n",
       "      <td>0.265381</td>\n",
       "      <td>0.076566</td>\n",
       "      <td>0.019894</td>\n",
       "      <td>0.009091</td>\n",
       "      <td>-0.011106</td>\n",
       "      <td>0.010405</td>\n",
       "      <td>0.013946</td>\n",
       "    </tr>\n",
       "    <tr>\n",
       "      <th>Region</th>\n",
       "      <td>0.265381</td>\n",
       "      <td>1.000000</td>\n",
       "      <td>-0.265645</td>\n",
       "      <td>-0.004633</td>\n",
       "      <td>-0.030057</td>\n",
       "      <td>-0.013371</td>\n",
       "      <td>-0.028609</td>\n",
       "      <td>0.023269</td>\n",
       "    </tr>\n",
       "    <tr>\n",
       "      <th>STATE</th>\n",
       "      <td>0.076566</td>\n",
       "      <td>-0.265645</td>\n",
       "      <td>1.000000</td>\n",
       "      <td>-0.018737</td>\n",
       "      <td>0.028354</td>\n",
       "      <td>0.002211</td>\n",
       "      <td>0.028944</td>\n",
       "      <td>0.042123</td>\n",
       "    </tr>\n",
       "    <tr>\n",
       "      <th>EVENT</th>\n",
       "      <td>0.019894</td>\n",
       "      <td>-0.004633</td>\n",
       "      <td>-0.018737</td>\n",
       "      <td>1.000000</td>\n",
       "      <td>0.017059</td>\n",
       "      <td>-0.036335</td>\n",
       "      <td>0.019393</td>\n",
       "      <td>0.040683</td>\n",
       "    </tr>\n",
       "    <tr>\n",
       "      <th>AKNOWLEDGE STATUS</th>\n",
       "      <td>0.009091</td>\n",
       "      <td>-0.030057</td>\n",
       "      <td>0.028354</td>\n",
       "      <td>0.017059</td>\n",
       "      <td>1.000000</td>\n",
       "      <td>0.008753</td>\n",
       "      <td>0.959627</td>\n",
       "      <td>0.287432</td>\n",
       "    </tr>\n",
       "    <tr>\n",
       "      <th>Confirmation</th>\n",
       "      <td>-0.011106</td>\n",
       "      <td>-0.013371</td>\n",
       "      <td>0.002211</td>\n",
       "      <td>-0.036335</td>\n",
       "      <td>0.008753</td>\n",
       "      <td>1.000000</td>\n",
       "      <td>0.019503</td>\n",
       "      <td>0.109857</td>\n",
       "    </tr>\n",
       "    <tr>\n",
       "      <th>2nd AKNOWLEDGE STATUS</th>\n",
       "      <td>0.010405</td>\n",
       "      <td>-0.028609</td>\n",
       "      <td>0.028944</td>\n",
       "      <td>0.019393</td>\n",
       "      <td>0.959627</td>\n",
       "      <td>0.019503</td>\n",
       "      <td>1.000000</td>\n",
       "      <td>0.308584</td>\n",
       "    </tr>\n",
       "    <tr>\n",
       "      <th>Status</th>\n",
       "      <td>0.013946</td>\n",
       "      <td>0.023269</td>\n",
       "      <td>0.042123</td>\n",
       "      <td>0.040683</td>\n",
       "      <td>0.287432</td>\n",
       "      <td>0.109857</td>\n",
       "      <td>0.308584</td>\n",
       "      <td>1.000000</td>\n",
       "    </tr>\n",
       "  </tbody>\n",
       "</table>\n",
       "</div>"
      ],
      "text/plain": [
       "                         SOL ID    Region     STATE     EVENT  \\\n",
       "SOL ID                 1.000000  0.265381  0.076566  0.019894   \n",
       "Region                 0.265381  1.000000 -0.265645 -0.004633   \n",
       "STATE                  0.076566 -0.265645  1.000000 -0.018737   \n",
       " EVENT                 0.019894 -0.004633 -0.018737  1.000000   \n",
       "AKNOWLEDGE STATUS      0.009091 -0.030057  0.028354  0.017059   \n",
       "Confirmation          -0.011106 -0.013371  0.002211 -0.036335   \n",
       "2nd AKNOWLEDGE STATUS  0.010405 -0.028609  0.028944  0.019393   \n",
       "Status                 0.013946  0.023269  0.042123  0.040683   \n",
       "\n",
       "                       AKNOWLEDGE STATUS  Confirmation  2nd AKNOWLEDGE STATUS  \\\n",
       "SOL ID                          0.009091     -0.011106               0.010405   \n",
       "Region                         -0.030057     -0.013371              -0.028609   \n",
       "STATE                           0.028354      0.002211               0.028944   \n",
       " EVENT                          0.017059     -0.036335               0.019393   \n",
       "AKNOWLEDGE STATUS               1.000000      0.008753               0.959627   \n",
       "Confirmation                    0.008753      1.000000               0.019503   \n",
       "2nd AKNOWLEDGE STATUS           0.959627      0.019503               1.000000   \n",
       "Status                          0.287432      0.109857               0.308584   \n",
       "\n",
       "                         Status  \n",
       "SOL ID                 0.013946  \n",
       "Region                 0.023269  \n",
       "STATE                  0.042123  \n",
       " EVENT                 0.040683  \n",
       "AKNOWLEDGE STATUS      0.287432  \n",
       "Confirmation           0.109857  \n",
       "2nd AKNOWLEDGE STATUS  0.308584  \n",
       "Status                 1.000000  "
      ]
     },
     "execution_count": 12,
     "metadata": {},
     "output_type": "execute_result"
    }
   ],
   "source": [
    "xm.corr()"
   ]
  },
  {
   "cell_type": "markdown",
   "metadata": {},
   "source": [
    "# Heat Map"
   ]
  },
  {
   "cell_type": "code",
   "execution_count": 13,
   "metadata": {},
   "outputs": [
    {
     "data": {
      "image/png": "[encoded data removed]",
      "text/plain": [
       "<Figure size 1800x1800 with 2 Axes>"
      ]
     },
     "metadata": {
      "needs_background": "light"
     },
     "output_type": "display_data"
    }
   ],
   "source": [
    "#get correlations of each features in dataset\n",
    "corrmat = xm.corr()\n",
    "corr_features = corrmat.index\n",
    "plt.figure(figsize=(25,25))\n",
    "#plot heat map\n",
    "\n",
    "c=sns.heatmap(xm[corr_features].corr(),annot=True,cmap=\"RdYlGn\")"
   ]
  },
  {
   "cell_type": "markdown",
   "metadata": {},
   "source": [
    "df.pivot(index='Business', columns='Date', values='Value')\n"
   ]
  },
  {
   "cell_type": "markdown",
   "metadata": {},
   "source": [
    "# Split Train and Test data"
   ]
  },
  {
   "cell_type": "code",
   "execution_count": 14,
   "metadata": {},
   "outputs": [
    {
     "name": "stdout",
     "output_type": "stream",
     "text": [
      "(129980, 7)\n",
      "(55707, 7)\n",
      "(129980,)\n",
      "(55707,)\n"
     ]
    }
   ],
   "source": [
    "from sklearn.model_selection import train_test_split\n",
    "X_train, X_test, y_train, y_test = train_test_split(X, y, test_size = 0.30, random_state=5,stratify=y)\n",
    "\n",
    "print(X_train.shape)\n",
    "print(X_test.shape)\n",
    "print(y_train.shape)\n",
    "print(y_test.shape)\n",
    "\n"
   ]
  },
  {
   "cell_type": "markdown",
   "metadata": {},
   "source": [
    "## Building machine learing model"
   ]
  },
  {
   "cell_type": "markdown",
   "metadata": {},
   "source": [
    "# 1. KNearest Neighbour"
   ]
  },
  {
   "cell_type": "code",
   "execution_count": 63,
   "metadata": {},
   "outputs": [
    {
     "name": "stdout",
     "output_type": "stream",
     "text": [
      "0.9673649631105606\n",
      "0.9784582243422065\n"
     ]
    }
   ],
   "source": [
    "from sklearn.neighbors import KNeighborsClassifier\n",
    "knn_classifier = KNeighborsClassifier()\n",
    "knn_classifier.fit(X_train, y_train)\n",
    "knn_predictions = knn_classifier.predict(X_test)\n",
    "print(knn_classifier.score(X_test, y_test))\n",
    "print(knn_classifier.score(X_train, y_train))"
   ]
  },
  {
   "cell_type": "code",
   "execution_count": 52,
   "metadata": {},
   "outputs": [
    {
     "name": "stdout",
     "output_type": "stream",
     "text": [
      "[3]\n",
      "[1]\n"
     ]
    }
   ],
   "source": [
    "\n",
    "X_= np.array([1255,3,11,6,7872,14,8079])\n",
    "y_pred =knn_classifier.predict([X_])\n",
    "\n",
    "\n",
    "X1 = np.array([807,0,13,10,2968,19,3045])\n",
    "y_pred1 =knn_classifier.predict([X1])\n",
    "\n",
    "print(y_pred)\n",
    "print(y_pred1)\n"
   ]
  },
  {
   "cell_type": "markdown",
   "metadata": {},
   "source": [
    "# Evaluate the model"
   ]
  },
  {
   "cell_type": "markdown",
   "metadata": {},
   "source": [
    "## Classification Report"
   ]
  },
  {
   "cell_type": "code",
   "execution_count": 153,
   "metadata": {},
   "outputs": [
    {
     "name": "stdout",
     "output_type": "stream",
     "text": [
      "               precision    recall  f1-score   support\n",
      "\n",
      "True_Critical       0.91      0.92      0.92      7127\n",
      "  False_False       0.98      0.97      0.97     10933\n",
      "  True_Normal       0.66      0.62      0.64      1377\n",
      "      Testing       0.98      0.99      0.98      3151\n",
      "        FALSE       0.99      0.99      0.99     33119\n",
      "\n",
      "     accuracy                           0.97     55707\n",
      "    macro avg       0.90      0.90      0.90     55707\n",
      " weighted avg       0.97      0.97      0.97     55707\n",
      "\n"
     ]
    }
   ],
   "source": [
    "from sklearn.metrics import classification_report\n",
    "print(classification_report(y_test,knn_predictions , target_names =data_features ))"
   ]
  },
  {
   "cell_type": "code",
   "execution_count": 154,
   "metadata": {},
   "outputs": [
    {
     "data": {
      "text/plain": [
       "array([[ 6574,    18,   404,     0,   131],\n",
       "       [   24, 10634,     2,    27,   246],\n",
       "       [  491,     3,   849,     0,    34],\n",
       "       [    0,    10,     0,  3104,    37],\n",
       "       [  114,   220,    28,    29, 32728]], dtype=int64)"
      ]
     },
     "execution_count": 154,
     "metadata": {},
     "output_type": "execute_result"
    }
   ],
   "source": [
    "confusion_matrix(y_test,knn_predictions)\n"
   ]
  },
  {
   "cell_type": "code",
   "execution_count": 59,
   "metadata": {},
   "outputs": [
    {
     "data": {
      "image/png": "[encoded data removed]",
      "text/plain": [
       "<Figure size 576x396 with 1 Axes>"
      ]
     },
     "metadata": {},
     "output_type": "display_data"
    },
    {
     "data": {
      "text/plain": [
       "<AxesSubplot:title={'center':'KNeighborsClassifier Confusion Matrix'}, xlabel='Predicted Class', ylabel='True Class'>"
      ]
     },
     "execution_count": 59,
     "metadata": {},
     "output_type": "execute_result"
    }
   ],
   "source": [
    "#Source:https://medium.com/analytics-vidhya/evaluating-a-random-forest-model-9d165595ad56\n",
    "# Get and reshape confusion matrix data\n",
    "from yellowbrick.classifier import ConfusionMatrix\n",
    "model =knn_classifier\n",
    "\n",
    "# The ConfusionMatrix visualizer taxes a model\n",
    "cm = ConfusionMatrix(model, classes=['False Normal','Testing','True Normal','False Critical','True Critical'])\n",
    "\n",
    "# Fit fits the passed model. This is unnecessary if you pass the visualizer a pre-fitted model\n",
    "cm.fit(X_train,y_train)\n",
    "\n",
    "# To create the ConfusionMatrix, we need some test data. Score runs predict() on the data\n",
    "# and then creates the confusion_matrix from scikit-learn.\n",
    "cm.score(X_test, y_test)\n",
    "\n",
    "# How did we do?\n",
    "cm.show()"
   ]
  },
  {
   "cell_type": "markdown",
   "metadata": {},
   "source": [
    "# 2. Random Forest"
   ]
  },
  {
   "cell_type": "code",
   "execution_count": 52,
   "metadata": {},
   "outputs": [
    {
     "name": "stdout",
     "output_type": "stream",
     "text": [
      "0.9806128493726103\n",
      "0.9976688721341744\n"
     ]
    }
   ],
   "source": [
    "from sklearn.ensemble import RandomForestClassifier\n",
    "rf_classifier = RandomForestClassifier()\n",
    "rf_classifier.fit(X_train, y_train)\n",
    "RSEED=50\n",
    "print(rf_classifier.score(X_test, y_test))\n",
    "print(rf_classifier.score(X_train, y_train))"
   ]
  },
  {
   "cell_type": "code",
   "execution_count": 182,
   "metadata": {},
   "outputs": [
    {
     "data": {
      "text/plain": [
       "array([1])"
      ]
     },
     "execution_count": 182,
     "metadata": {},
     "output_type": "execute_result"
    }
   ],
   "source": [
    "\n",
    "X_= np.array([807,0,13,10,2968,19,3045])\n",
    "y_pred =rf_classifier.predict([X_])\n",
    "y_pred"
   ]
  },
  {
   "cell_type": "code",
   "execution_count": 108,
   "metadata": {},
   "outputs": [
    {
     "data": {
      "text/plain": [
       "array([4, 4, 4, ..., 4, 4, 1])"
      ]
     },
     "execution_count": 108,
     "metadata": {},
     "output_type": "execute_result"
    }
   ],
   "source": [
    "y_pred =rf_classifier.predict(X_test)\n",
    "y_pred"
   ]
  },
  {
   "cell_type": "markdown",
   "metadata": {},
   "source": [
    "## Classification Report"
   ]
  },
  {
   "cell_type": "code",
   "execution_count": 109,
   "metadata": {},
   "outputs": [
    {
     "name": "stdout",
     "output_type": "stream",
     "text": [
      "               precision    recall  f1-score   support\n",
      "\n",
      "True_Critical       0.94      0.96      0.95      7127\n",
      "  False_False       0.99      0.99      0.99     10933\n",
      "  True_Normal       0.80      0.71      0.75      1377\n",
      "      Testing       1.00      1.00      1.00      3151\n",
      "        FALSE       0.99      0.99      0.99     33119\n",
      "\n",
      "     accuracy                           0.98     55707\n",
      "    macro avg       0.94      0.93      0.94     55707\n",
      " weighted avg       0.98      0.98      0.98     55707\n",
      "\n"
     ]
    }
   ],
   "source": [
    "from sklearn.metrics import classification_report\n",
    "print(classification_report(y_test, y_pred, target_names =data_features ))"
   ]
  },
  {
   "cell_type": "markdown",
   "metadata": {},
   "source": [
    "## Confusion Matrix"
   ]
  },
  {
   "cell_type": "code",
   "execution_count": 110,
   "metadata": {},
   "outputs": [
    {
     "data": {
      "text/plain": [
       "array([[ 6810,     1,   242,     0,    74],\n",
       "       [    3, 10796,     0,     0,   134],\n",
       "       [  385,     2,   977,     0,    13],\n",
       "       [    0,     1,     0,  3144,     6],\n",
       "       [   46,   146,     1,     0, 32926]], dtype=int64)"
      ]
     },
     "execution_count": 110,
     "metadata": {},
     "output_type": "execute_result"
    }
   ],
   "source": [
    "confusion_matrix(y_test, y_pred)\n"
   ]
  },
  {
   "cell_type": "code",
   "execution_count": 64,
   "metadata": {},
   "outputs": [
    {
     "data": {
      "image/png": "[encoded data removed]",
      "text/plain": [
       "<Figure size 576x396 with 1 Axes>"
      ]
     },
     "metadata": {},
     "output_type": "display_data"
    },
    {
     "data": {
      "text/plain": [
       "<AxesSubplot:title={'center':'RandomForestClassifier Confusion Matrix'}, xlabel='Predicted Class', ylabel='True Class'>"
      ]
     },
     "execution_count": 64,
     "metadata": {},
     "output_type": "execute_result"
    }
   ],
   "source": [
    "#Source:https://medium.com/analytics-vidhya/evaluating-a-random-forest-model-9d165595ad56\n",
    "# Get and reshape confusion matrix data\n",
    "from yellowbrick.classifier import ConfusionMatrix\n",
    "model =rf_classifier \n",
    "\n",
    "# The ConfusionMatrix visualizer taxes a model\n",
    "cm = ConfusionMatrix(model, classes=['False Normal','Testing','True Normal','False Critical','True Critical'])\n",
    "\n",
    "# Fit fits the passed model. This is unnecessary if you pass the visualizer a pre-fitted model\n",
    "cm.fit(X_train,y_train)\n",
    "\n",
    "# To create the ConfusionMatrix, we need some test data. Score runs predict() on the data\n",
    "# and then creates the confusion_matrix from scikit-learn.\n",
    "cm.score(X_test, y_test)\n",
    "\n",
    "# How did we do?\n",
    "cm.show()"
   ]
  },
  {
   "cell_type": "markdown",
   "metadata": {},
   "source": [
    "## Random Forest with RandomizedSearchCV"
   ]
  },
  {
   "cell_type": "code",
   "execution_count": 17,
   "metadata": {},
   "outputs": [
    {
     "name": "stdout",
     "output_type": "stream",
     "text": [
      "{'bootstrap': True,\n",
      " 'ccp_alpha': 0.0,\n",
      " 'class_weight': None,\n",
      " 'criterion': 'gini',\n",
      " 'max_depth': None,\n",
      " 'max_features': 'auto',\n",
      " 'max_leaf_nodes': None,\n",
      " 'max_samples': None,\n",
      " 'min_impurity_decrease': 0.0,\n",
      " 'min_impurity_split': None,\n",
      " 'min_samples_leaf': 1,\n",
      " 'min_samples_split': 2,\n",
      " 'min_weight_fraction_leaf': 0.0,\n",
      " 'n_estimators': 100,\n",
      " 'n_jobs': None,\n",
      " 'oob_score': False,\n",
      " 'random_state': 50,\n",
      " 'verbose': 0,\n",
      " 'warm_start': False}\n"
     ]
    }
   ],
   "source": [
    "RSEED=50\n",
    "rf = RandomForestClassifier(random_state= RSEED)\n",
    "from pprint import pprint\n",
    "# Look at parameters used by our current forest\n",
    "\n",
    "#print('Parameters currently in use:\\n')\n",
    "pprint(rf.get_params())"
   ]
  },
  {
   "cell_type": "markdown",
   "metadata": {},
   "source": [
    "# Set the parameter grid"
   ]
  },
  {
   "cell_type": "code",
   "execution_count": 18,
   "metadata": {
    "scrolled": true
   },
   "outputs": [
    {
     "name": "stdout",
     "output_type": "stream",
     "text": [
      "{'bootstrap': [True, False],\n",
      " 'max_depth': [3, 4, 6, 8, 9, 11, 13, 14, 16, 18, 20, None],\n",
      " 'max_features': ['auto',\n",
      "                  'sqrt',\n",
      "                  0.5,\n",
      "                  0.6,\n",
      "                  0.7,\n",
      "                  0.7999999999999999,\n",
      "                  0.8999999999999999],\n",
      " 'min_samples_leaf': [1, 2, 4],\n",
      " 'min_samples_split': [2, 5, 10],\n",
      " 'n_estimators': [10, 31, 52, 73, 94, 115, 136, 157, 178, 200]}\n"
     ]
    }
   ],
   "source": [
    "from sklearn.model_selection import RandomizedSearchCV\n",
    "# Number of trees in random forest\n",
    "n_estimators = [int(x) for x in np.linspace(start = 10, stop = 200, num = 10)]\n",
    "# Number of features to consider at every split\n",
    "max_features = ['auto', 'sqrt']+list(np.arange(0.5, 1, 0.1))\n",
    "# Maximum number of levels in tree\n",
    "max_depth = [int(x) for x in np.linspace(3, 20, num = 11)]\n",
    "max_depth.append(None)\n",
    "# Minimum number of samples required to split a node\n",
    "min_samples_split = [2, 5, 10]\n",
    "# Minimum number of samples required at each leaf node\n",
    "min_samples_leaf = [1, 2, 4]\n",
    "# Method of selecting samples for training each tree\n",
    "bootstrap = [True, False]\n",
    "# Create the random grid\n",
    "random_grid = {'n_estimators': n_estimators,\n",
    "               'max_features': max_features,\n",
    "               'max_depth': max_depth,\n",
    "               'min_samples_split': min_samples_split,\n",
    "               'min_samples_leaf': min_samples_leaf,\n",
    "               'bootstrap': bootstrap}\n",
    "pprint(random_grid)"
   ]
  },
  {
   "cell_type": "markdown",
   "metadata": {},
   "source": [
    "## Create the Random Search model"
   ]
  },
  {
   "cell_type": "code",
   "execution_count": 19,
   "metadata": {},
   "outputs": [],
   "source": [
    "rf_random = RandomizedSearchCV(estimator = rf, param_distributions = random_grid, n_iter = 10, cv = 3, verbose=2, random_state=RSEED,n_jobs = -1)\n"
   ]
  },
  {
   "cell_type": "markdown",
   "metadata": {},
   "source": [
    "## Fit the model"
   ]
  },
  {
   "cell_type": "code",
   "execution_count": 20,
   "metadata": {},
   "outputs": [
    {
     "name": "stdout",
     "output_type": "stream",
     "text": [
      "Fitting 3 folds for each of 10 candidates, totalling 30 fits\n"
     ]
    },
    {
     "data": {
      "text/plain": [
       "RandomizedSearchCV(cv=3, estimator=RandomForestClassifier(random_state=50),\n",
       "                   n_jobs=-1,\n",
       "                   param_distributions={'bootstrap': [True, False],\n",
       "                                        'max_depth': [3, 4, 6, 8, 9, 11, 13, 14,\n",
       "                                                      16, 18, 20, None],\n",
       "                                        'max_features': ['auto', 'sqrt', 0.5,\n",
       "                                                         0.6, 0.7,\n",
       "                                                         0.7999999999999999,\n",
       "                                                         0.8999999999999999],\n",
       "                                        'min_samples_leaf': [1, 2, 4],\n",
       "                                        'min_samples_split': [2, 5, 10],\n",
       "                                        'n_estimators': [10, 31, 52, 73, 94,\n",
       "                                                         115, 136, 157, 178,\n",
       "                                                         200]},\n",
       "                   random_state=50, verbose=2)"
      ]
     },
     "execution_count": 20,
     "metadata": {},
     "output_type": "execute_result"
    }
   ],
   "source": [
    "rf_random.fit(X_train, y_train)"
   ]
  },
  {
   "cell_type": "markdown",
   "metadata": {},
   "source": [
    "## Explore the best parameters"
   ]
  },
  {
   "cell_type": "code",
   "execution_count": 21,
   "metadata": {},
   "outputs": [
    {
     "name": "stdout",
     "output_type": "stream",
     "text": [
      "{'n_estimators': 94, 'min_samples_split': 2, 'min_samples_leaf': 1, 'max_features': 0.8999999999999999, 'max_depth': 18, 'bootstrap': True}\n"
     ]
    }
   ],
   "source": [
    "print(rf_random.best_params_)"
   ]
  },
  {
   "cell_type": "markdown",
   "metadata": {},
   "source": [
    "# Use the Best Model"
   ]
  },
  {
   "cell_type": "code",
   "execution_count": 22,
   "metadata": {},
   "outputs": [
    {
     "data": {
      "text/plain": [
       "RandomForestClassifier(max_depth=18, max_features=0.8999999999999999,\n",
       "                       n_estimators=94, random_state=50)"
      ]
     },
     "execution_count": 22,
     "metadata": {},
     "output_type": "execute_result"
    }
   ],
   "source": [
    "random_cv=rf_random.best_estimator_\n",
    "random_cv"
   ]
  },
  {
   "cell_type": "code",
   "execution_count": 23,
   "metadata": {},
   "outputs": [
    {
     "data": {
      "text/plain": [
       "array([4, 4, 4, ..., 4, 4, 1])"
      ]
     },
     "execution_count": 23,
     "metadata": {},
     "output_type": "execute_result"
    }
   ],
   "source": [
    "y_pred1 = random_cv.predict(X_test)\n",
    "y_pred1"
   ]
  },
  {
   "cell_type": "code",
   "execution_count": 53,
   "metadata": {},
   "outputs": [
    {
     "name": "stdout",
     "output_type": "stream",
     "text": [
      "0.9720681422442422\n",
      "0.9724342206493307\n"
     ]
    }
   ],
   "source": [
    "print(random_cv.score(X_test,y_test))\n",
    "print(random_cv.score(X_train,y_train))"
   ]
  },
  {
   "cell_type": "code",
   "execution_count": 65,
   "metadata": {},
   "outputs": [
    {
     "data": {
      "image/png": "[encoded data removed]",
      "text/plain": [
       "<Figure size 576x396 with 1 Axes>"
      ]
     },
     "metadata": {},
     "output_type": "display_data"
    },
    {
     "data": {
      "text/plain": [
       "<AxesSubplot:title={'center':'RandomizedSearchCV Confusion Matrix'}, xlabel='Predicted Class', ylabel='True Class'>"
      ]
     },
     "execution_count": 65,
     "metadata": {},
     "output_type": "execute_result"
    }
   ],
   "source": [
    "from yellowbrick.classifier import ConfusionMatrix\n",
    "model =rf_random\n",
    "\n",
    "# The ConfusionMatrix visualizer taxes a model\n",
    "cm = ConfusionMatrix(model, classes=['False Normal','Testing','True Normal','False Critical','True Critical'])\n",
    "\n",
    "# Fit fits the passed model. This is unnecessary if you pass the visualizer a pre-fitted model\n",
    "cm.fit(X_train,y_train)\n",
    "\n",
    "# To create the ConfusionMatrix, we need some test data. Score runs predict() on the data\n",
    "# and then creates the confusion_matrix from scikit-learn.\n",
    "cm.score(X_test, y_test)\n",
    "\n",
    "# How did we do?\n",
    "cm.show()"
   ]
  },
  {
   "cell_type": "markdown",
   "metadata": {},
   "source": [
    "# Building model with Balanced Dataset"
   ]
  },
  {
   "cell_type": "code",
   "execution_count": 54,
   "metadata": {},
   "outputs": [],
   "source": [
    "from imblearn.under_sampling import RandomUnderSampler\n",
    "from imblearn.over_sampling import RandomOverSampler \n",
    "from collections import Counter\n",
    "from imblearn.over_sampling import SMOTE\n",
    "from sklearn.metrics import confusion_matrix"
   ]
  },
  {
   "cell_type": "markdown",
   "metadata": {},
   "source": [
    "# RandomForest with Oversampling(RandomizedSearchCV)"
   ]
  },
  {
   "cell_type": "code",
   "execution_count": 26,
   "metadata": {},
   "outputs": [],
   "source": [
    "oversample = RandomOverSampler(sampling_strategy='minority')\n"
   ]
  },
  {
   "cell_type": "code",
   "execution_count": 27,
   "metadata": {},
   "outputs": [
    {
     "name": "stdout",
     "output_type": "stream",
     "text": [
      "After oversampling:  Counter({4: 110395, 2: 110395, 1: 36442, 0: 23755, 3: 10505})\n"
     ]
    }
   ],
   "source": [
    "# fit and apply the transform\n",
    "X_train_over, y_train_over = oversample.fit_resample(X,y)\n",
    "\n",
    "# summarize class distribution\n",
    "print(\"After oversampling: \",Counter(y_train_over))"
   ]
  },
  {
   "cell_type": "code",
   "execution_count": 28,
   "metadata": {},
   "outputs": [
    {
     "name": "stdout",
     "output_type": "stream",
     "text": [
      "Fitting 3 folds for each of 10 candidates, totalling 30 fits\n"
     ]
    },
    {
     "data": {
      "text/plain": [
       "RandomizedSearchCV(cv=3, estimator=RandomForestClassifier(random_state=50),\n",
       "                   n_jobs=-1,\n",
       "                   param_distributions={'bootstrap': [True, False],\n",
       "                                        'max_depth': [3, 4, 6, 8, 9, 11, 13, 14,\n",
       "                                                      16, 18, 20, None],\n",
       "                                        'max_features': ['auto', 'sqrt', 0.5,\n",
       "                                                         0.6, 0.7,\n",
       "                                                         0.7999999999999999,\n",
       "                                                         0.8999999999999999],\n",
       "                                        'min_samples_leaf': [1, 2, 4],\n",
       "                                        'min_samples_split': [2, 5, 10],\n",
       "                                        'n_estimators': [10, 31, 52, 73, 94,\n",
       "                                                         115, 136, 157, 178,\n",
       "                                                         200]},\n",
       "                   random_state=50, verbose=2)"
      ]
     },
     "execution_count": 28,
     "metadata": {},
     "output_type": "execute_result"
    }
   ],
   "source": [
    "rf_random.fit(X_train_over, y_train_over)\n"
   ]
  },
  {
   "cell_type": "code",
   "execution_count": 67,
   "metadata": {},
   "outputs": [
    {
     "data": {
      "text/plain": [
       "RandomForestClassifier(max_depth=18, max_features=0.8999999999999999,\n",
       "                       n_estimators=94, random_state=50)"
      ]
     },
     "execution_count": 67,
     "metadata": {},
     "output_type": "execute_result"
    }
   ],
   "source": [
    "random_cv_new1=rf_random.best_estimator_\n",
    "random_cv_new1"
   ]
  },
  {
   "cell_type": "code",
   "execution_count": 68,
   "metadata": {},
   "outputs": [
    {
     "name": "stdout",
     "output_type": "stream",
     "text": [
      "0.9914014396754447\n",
      "0.9696115159249653\n"
     ]
    }
   ],
   "source": [
    "print(random_cv_new1.score(X_test,y_test))\n",
    "print(random_cv_new1.score(X_train_over,y_train_over))"
   ]
  },
  {
   "cell_type": "code",
   "execution_count": 37,
   "metadata": {},
   "outputs": [
    {
     "data": {
      "image/png": "[encoded data removed]",
      "text/plain": [
       "<Figure size 576x396 with 1 Axes>"
      ]
     },
     "metadata": {},
     "output_type": "display_data"
    },
    {
     "data": {
      "text/plain": [
       "<AxesSubplot:title={'center':'RandomizedSearchCV Confusion Matrix'}, xlabel='Predicted Class', ylabel='True Class'>"
      ]
     },
     "execution_count": 37,
     "metadata": {},
     "output_type": "execute_result"
    }
   ],
   "source": [
    "from yellowbrick.classifier import ConfusionMatrix\n",
    "model = rf_random\n",
    "\n",
    "# The ConfusionMatrix visualizer taxes a model\n",
    "cm = ConfusionMatrix(model, classes=['False Normal','Testing','True Normal','False Critical','True Critical'])\n",
    "\n",
    "# Fit fits the passed model. This is unnecessary if you pass the visualizer a pre-fitted model\n",
    "cm.fit(X_train_over, y_train_over)\n",
    "\n",
    "# To create the ConfusionMatrix, we need some test data. Score runs predict() on the data\n",
    "# and then creates the confusion_matrix from scikit-learn.\n",
    "cm.score(X_test, y_test)\n",
    "\n",
    "# How did we do?\n",
    "cm.show()"
   ]
  },
  {
   "cell_type": "markdown",
   "metadata": {},
   "source": [
    "# RandomForest with Undersampling(RandomizedSearchCV)"
   ]
  },
  {
   "cell_type": "code",
   "execution_count": 38,
   "metadata": {},
   "outputs": [],
   "source": [
    "Undersample = RandomUnderSampler(sampling_strategy='majority')"
   ]
  },
  {
   "cell_type": "code",
   "execution_count": 39,
   "metadata": {},
   "outputs": [
    {
     "name": "stdout",
     "output_type": "stream",
     "text": [
      "After oversampling:  Counter({1: 36442, 0: 23755, 3: 10505, 2: 4590, 4: 4590})\n"
     ]
    }
   ],
   "source": [
    "# fit and apply the transform\n",
    "X_train_under, y_train_under = Undersample.fit_resample(X,y)\n",
    "\n",
    "# summarize class distribution\n",
    "print(\"After oversampling: \",Counter(y_train_under))"
   ]
  },
  {
   "cell_type": "code",
   "execution_count": 40,
   "metadata": {},
   "outputs": [
    {
     "name": "stdout",
     "output_type": "stream",
     "text": [
      "Fitting 3 folds for each of 10 candidates, totalling 30 fits\n"
     ]
    },
    {
     "data": {
      "text/plain": [
       "RandomizedSearchCV(cv=3, estimator=RandomForestClassifier(random_state=50),\n",
       "                   n_jobs=-1,\n",
       "                   param_distributions={'bootstrap': [True, False],\n",
       "                                        'max_depth': [3, 4, 6, 8, 9, 11, 13, 14,\n",
       "                                                      16, 18, 20, None],\n",
       "                                        'max_features': ['auto', 'sqrt', 0.5,\n",
       "                                                         0.6, 0.7,\n",
       "                                                         0.7999999999999999,\n",
       "                                                         0.8999999999999999],\n",
       "                                        'min_samples_leaf': [1, 2, 4],\n",
       "                                        'min_samples_split': [2, 5, 10],\n",
       "                                        'n_estimators': [10, 31, 52, 73, 94,\n",
       "                                                         115, 136, 157, 178,\n",
       "                                                         200]},\n",
       "                   random_state=50, verbose=2)"
      ]
     },
     "execution_count": 40,
     "metadata": {},
     "output_type": "execute_result"
    }
   ],
   "source": [
    "rf_random.fit(X_train_under, y_train_under)"
   ]
  },
  {
   "cell_type": "code",
   "execution_count": 41,
   "metadata": {},
   "outputs": [
    {
     "data": {
      "text/plain": [
       "RandomForestClassifier(bootstrap=False, max_depth=9, min_samples_leaf=2,\n",
       "                       min_samples_split=5, n_estimators=73, random_state=50)"
      ]
     },
     "execution_count": 41,
     "metadata": {},
     "output_type": "execute_result"
    }
   ],
   "source": [
    "random_cv_new=rf_random.best_estimator_\n",
    "random_cv_new"
   ]
  },
  {
   "cell_type": "code",
   "execution_count": 42,
   "metadata": {},
   "outputs": [
    {
     "name": "stdout",
     "output_type": "stream",
     "text": [
      "0.8709497908700882\n",
      "0.9321123657394658\n"
     ]
    }
   ],
   "source": [
    "print(random_cv_new.score(X_test,y_test))\n",
    "print(random_cv_new.score(X_train_under,y_train_under))"
   ]
  },
  {
   "cell_type": "code",
   "execution_count": 43,
   "metadata": {},
   "outputs": [
    {
     "data": {
      "image/png": "[encoded data removed]",
      "text/plain": [
       "<Figure size 576x396 with 1 Axes>"
      ]
     },
     "metadata": {},
     "output_type": "display_data"
    },
    {
     "data": {
      "text/plain": [
       "<AxesSubplot:title={'center':'RandomizedSearchCV Confusion Matrix'}, xlabel='Predicted Class', ylabel='True Class'>"
      ]
     },
     "execution_count": 43,
     "metadata": {},
     "output_type": "execute_result"
    }
   ],
   "source": [
    "from yellowbrick.classifier import ConfusionMatrix\n",
    "model = rf_random\n",
    "\n",
    "# The ConfusionMatrix visualizer taxes a model\n",
    "cm = ConfusionMatrix(model, classes=['False Normal','Testing','True Normal','False Critical','True Critical'])\n",
    "\n",
    "# Fit fits the passed model. This is unnecessary if you pass the visualizer a pre-fitted model\n",
    "cm.fit(X_train_under, y_train_under)\n",
    "\n",
    "# To create the ConfusionMatrix, we need some test data. Score runs predict() on the data\n",
    "# and then creates the confusion_matrix from scikit-learn.\n",
    "cm.score(X_test, y_test)\n",
    "\n",
    "# How did we do?\n",
    "cm.show()"
   ]
  },
  {
   "cell_type": "markdown",
   "metadata": {},
   "source": [
    "# RandomForest with Combinedsampling(RandomizedSearchCV)"
   ]
  },
  {
   "cell_type": "code",
   "execution_count": 56,
   "metadata": {},
   "outputs": [
    {
     "name": "stdout",
     "output_type": "stream",
     "text": [
      "Combined Random Sampling: Counter({4: 110395, 1: 36442, 0: 23755, 2: 10505, 3: 10505})\n"
     ]
    }
   ],
   "source": [
    "X_combined_sampling, y_combined_sampling = Undersample.fit_resample(X_train_over, y_train_over)\n",
    "print(f\"Combined Random Sampling: {Counter(y_combined_sampling)}\")"
   ]
  },
  {
   "cell_type": "code",
   "execution_count": 57,
   "metadata": {},
   "outputs": [
    {
     "data": {
      "image/png": "[encoded data removed]",
      "text/plain": [
       "<Figure size 576x396 with 1 Axes>"
      ]
     },
     "metadata": {},
     "output_type": "display_data"
    }
   ],
   "source": [
    "ax=  y_combined_sampling.value_counts().plot.pie(autopct='%.2f')"
   ]
  },
  {
   "cell_type": "code",
   "execution_count": 58,
   "metadata": {},
   "outputs": [
    {
     "name": "stdout",
     "output_type": "stream",
     "text": [
      "Fitting 3 folds for each of 10 candidates, totalling 30 fits\n"
     ]
    },
    {
     "data": {
      "text/plain": [
       "RandomizedSearchCV(cv=3, estimator=RandomForestClassifier(random_state=50),\n",
       "                   n_jobs=-1,\n",
       "                   param_distributions={'bootstrap': [True, False],\n",
       "                                        'max_depth': [3, 4, 6, 8, 9, 11, 13, 14,\n",
       "                                                      16, 18, 20, None],\n",
       "                                        'max_features': ['auto', 'sqrt', 0.5,\n",
       "                                                         0.6, 0.7,\n",
       "                                                         0.7999999999999999,\n",
       "                                                         0.8999999999999999],\n",
       "                                        'min_samples_leaf': [1, 2, 4],\n",
       "                                        'min_samples_split': [2, 5, 10],\n",
       "                                        'n_estimators': [10, 31, 52, 73, 94,\n",
       "                                                         115, 136, 157, 178,\n",
       "                                                         200]},\n",
       "                   random_state=50, verbose=2)"
      ]
     },
     "execution_count": 58,
     "metadata": {},
     "output_type": "execute_result"
    }
   ],
   "source": [
    "rf_random.fit(X_combined_sampling, y_combined_sampling)"
   ]
  },
  {
   "cell_type": "code",
   "execution_count": 60,
   "metadata": {},
   "outputs": [
    {
     "data": {
      "text/plain": [
       "RandomForestClassifier(max_depth=18, max_features=0.8999999999999999,\n",
       "                       n_estimators=94, random_state=50)"
      ]
     },
     "execution_count": 60,
     "metadata": {},
     "output_type": "execute_result"
    }
   ],
   "source": [
    "random_cv_combined=rf_random.best_estimator_\n",
    "random_cv_combined"
   ]
  },
  {
   "cell_type": "code",
   "execution_count": 66,
   "metadata": {},
   "outputs": [
    {
     "name": "stdout",
     "output_type": "stream",
     "text": [
      "0.9914014396754447\n",
      "0.9904280748635191\n"
     ]
    }
   ],
   "source": [
    "print(random_cv_combined.score(X_test,y_test))\n",
    "print(random_cv_combined.score(X_combined_sampling, y_combined_sampling))"
   ]
  },
  {
   "cell_type": "code",
   "execution_count": 62,
   "metadata": {},
   "outputs": [
    {
     "data": {
      "image/png": "[encoded data removed]",
      "text/plain": [
       "<Figure size 576x396 with 1 Axes>"
      ]
     },
     "metadata": {},
     "output_type": "display_data"
    },
    {
     "data": {
      "text/plain": [
       "<AxesSubplot:title={'center':'RandomizedSearchCV Confusion Matrix'}, xlabel='Predicted Class', ylabel='True Class'>"
      ]
     },
     "execution_count": 62,
     "metadata": {},
     "output_type": "execute_result"
    }
   ],
   "source": [
    "from yellowbrick.classifier import ConfusionMatrix\n",
    "model = rf_random\n",
    "\n",
    "# The ConfusionMatrix visualizer taxes a model\n",
    "cm = ConfusionMatrix(model, classes=['False Normal','Testing','True Normal','False Critical','True Critical'])\n",
    "\n",
    "# Fit fits the passed model. This is unnecessary if you pass the visualizer a pre-fitted model\n",
    "cm.fit(X_combined_sampling, y_combined_sampling)\n",
    "\n",
    "# To create the ConfusionMatrix, we need some test data. Score runs predict() on the data\n",
    "# and then creates the confusion_matrix from scikit-learn.\n",
    "cm.score(X_test, y_test)\n",
    "\n",
    "# How did we do?\n",
    "cm.show()"
   ]
  },
  {
   "cell_type": "markdown",
   "metadata": {},
   "source": [
    "# Conclusion"
   ]
  },
  {
   "cell_type": "code",
   "execution_count": 69,
   "metadata": {},
   "outputs": [
    {
     "name": "stdout",
     "output_type": "stream",
     "text": [
      "\n",
      "                                      Accuracy     Error\n",
      "                                     ----------   --------\n",
      "KNN                                   : 96.74%       3.264% \n",
      "Random Forest                         : 98.06%       1.939% \n",
      "Random Forest with RandomizedSearchCV : 97.21%       2.793% \n",
      "Random Forest(oversampling) with RandomizedSearchCV : 99.14%       0.8599% \n",
      "Random Forest(Undersampling) with RandomizedSearchCV : 87.09%       12.91% \n",
      "Random Forest(Combined Sampling) with RandomizedSearchCV : 99.14%       0.8599% \n"
     ]
    }
   ],
   "source": [
    "print('\\n                                      Accuracy     Error')\n",
    "print('                                     ----------   --------')\n",
    "\n",
    "print('KNN                                   : {:.04}%       {:.04}% '.format(knn_classifier.score(X_test, y_test) * 100,\\\n",
    "                                                        100-(knn_classifier.score(X_test, y_test) * 100)))\n",
    "\n",
    "print('Random Forest                         : {:.04}%       {:.04}% '.format(rf_classifier.score(X_test, y_test)* 100,\\\n",
    "                                                           100-(rf_classifier.score(X_test, y_test)* 100)))\n",
    "\n",
    "print('Random Forest with RandomizedSearchCV : {:.04}%       {:.04}% '.format(random_cv.score(X_test, y_test)* 100,\\\n",
    "                                                           100-(random_cv.score(X_test, y_test)* 100)))\n",
    "print('Random Forest(oversampling) with RandomizedSearchCV : {:.04}%       {:.04}% '.format(random_cv_new1.score(X_test, y_test)* 100,\\\n",
    "                                                           100-(random_cv_new1.score(X_test, y_test)* 100)))\n",
    "print('Random Forest(Undersampling) with RandomizedSearchCV : {:.04}%       {:.04}% '.format(random_cv_new.score(X_test, y_test)* 100,\\\n",
    "                                                           100-(random_cv_new.score(X_test, y_test)* 100)))\n",
    "print('Random Forest(Combined Sampling) with RandomizedSearchCV : {:.04}%       {:.04}% '.format(random_cv_combined.score(X_test, y_test)* 100,\\\n",
    "                                                           100-(random_cv_combined.score(X_test, y_test)* 100)))\n"
   ]
  },
  {
   "cell_type": "markdown",
   "metadata": {},
   "source": [
    "We can choose the Random Forest,KNN model to get the desired output"
   ]
  },
  {
   "cell_type": "markdown",
   "metadata": {},
   "source": [
    "Happy learning....."
   ]
  }
 ],
 "metadata": {
  "kernelspec": {
   "display_name": "Python 3",
   "language": "python",
   "name": "python3"
  },
  "language_info": {
   "codemirror_mode": {
    "name": "ipython",
    "version": 3
   },
   "file_extension": ".py",
   "mimetype": "text/x-python",
   "name": "python",
   "nbconvert_exporter": "python",
   "pygments_lexer": "ipython3",
   "version": "3.6.5"
  }
 },
 "nbformat": 4,
 "nbformat_minor": 2
}
